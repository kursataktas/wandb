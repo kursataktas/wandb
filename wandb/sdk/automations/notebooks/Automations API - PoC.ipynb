{
 "cells": [
  {
   "cell_type": "code",
   "execution_count": 3,
   "id": "68989f30-8a2a-4d8d-8d5a-4d283877d163",
   "metadata": {},
   "outputs": [],
   "source": [
    "from rich import print\n",
    "from rich.pretty import pprint\n",
    "\n",
    "from wandb import Api\n",
    "from wandb.sdk import automations\n",
    "from wandb.sdk.automations import actions, events, make_table"
   ]
  },
  {
   "cell_type": "markdown",
   "id": "134ecc22-7fe4-40e6-b104-3af29ec670c8",
   "metadata": {},
   "source": [
    "## Getting (reading) existing automations"
   ]
  },
  {
   "cell_type": "code",
   "execution_count": 4,
   "id": "dcfe1acb-2538-46ae-8c06-a5e3f3ffd34c",
   "metadata": {},
   "outputs": [],
   "source": [
    "triggers = automations.get_all()"
   ]
  },
  {
   "cell_type": "markdown",
   "id": "16b7ba25-db48-49ff-a3eb-8c70b2817222",
   "metadata": {},
   "source": [
    "Display the first and last few automations"
   ]
  },
  {
   "cell_type": "code",
   "execution_count": 5,
   "id": "d072ab9b-dd70-464b-a1ac-01a09591350b",
   "metadata": {},
   "outputs": [
    {
     "data": {
      "text/html": [
       "<pre style=\"white-space:pre;overflow-x:auto;line-height:normal;font-family:Menlo,'DejaVu Sans Mono',consolas,'Courier New',monospace\"><span style=\"font-style: italic\">Automations                                                                                                        </span>\n",
       "┏━━━━━━━━━━━━━━━━━┳━━━━━━━━━━━━━━━━━━━━━┳━━━━━━━━━━━━━━━━━━━━┳━━━━━━━━━━━━━━━━━━━━━┳━━━━━━━━━━━━━━━━━━━━┳━━━━━━━━━┓\n",
       "┃<span style=\"font-weight: bold\"> name            </span>┃<span style=\"font-weight: bold\"> description         </span>┃<span style=\"font-weight: bold\"> scope              </span>┃<span style=\"font-weight: bold\"> event               </span>┃<span style=\"font-weight: bold\"> action             </span>┃<span style=\"font-weight: bold\"> enabled </span>┃\n",
       "┡━━━━━━━━━━━━━━━━━╇━━━━━━━━━━━━━━━━━━━━━╇━━━━━━━━━━━━━━━━━━━━╇━━━━━━━━━━━━━━━━━━━━━╇━━━━━━━━━━━━━━━━━━━━╇━━━━━━━━━┩\n",
       "│ webhook-modal-… │ Simple webhook test │ ARTIFACT_COLLECTI… │ ADD_ARTIFACT_ALIAS… │ WebhookAction(     │ True    │\n",
       "│                 │ assuming model      │ Segmentation')     │                     │  integration=Webh… │         │\n",
       "│                 │ deployment with     │                    │                     │   name='webhook-m… │         │\n",
       "│                 │ modal               │                    │                     │   url_endpoint=Ur… │         │\n",
       "│                 │                     │                    │                     │  ),                │         │\n",
       "│                 │                     │                    │                     │  request_payload={ │         │\n",
       "│                 │                     │                    │                     │   'event_type':    │         │\n",
       "│                 │                     │                    │                     │ '${event_type}',   │         │\n",
       "│                 │                     │                    │                     │   'event_author':  │         │\n",
       "│                 │                     │                    │                     │ '${event_author}', │         │\n",
       "│                 │                     │                    │                     │   ... +6           │         │\n",
       "│                 │                     │                    │                     │  }                 │         │\n",
       "│                 │                     │                    │                     │ )                  │         │\n",
       "├─────────────────┼─────────────────────┼────────────────────┼─────────────────────┼────────────────────┼─────────┤\n",
       "│ test            │ test                │ ARTIFACT_COLLECTI… │ LINK_MODEL(filter=… │ QueueJobAction(    │ True    │\n",
       "│                 │                     │                    │                     │  queue=RunQueue(n… │         │\n",
       "│                 │                     │                    │                     │ queue'),           │         │\n",
       "│                 │                     │                    │                     │  template={'autho… │         │\n",
       "│                 │                     │                    │                     │ 'joe-cloughley',   │         │\n",
       "│                 │                     │                    │                     │ 'entity':          │         │\n",
       "│                 │                     │                    │                     │ 'wandb-designers', │         │\n",
       "│                 │                     │                    │                     │ ... +3}            │         │\n",
       "│                 │                     │                    │                     │ )                  │         │\n",
       "├─────────────────┼─────────────────────┼────────────────────┼─────────────────────┼────────────────────┼─────────┤\n",
       "│ slack-link-art… │ None                │ ARTIFACT_COLLECTI… │ LINK_MODEL(filter=… │ NotificationActio… │ True    │\n",
       "│                 │                     │ Model')            │                     │  integration=Slac… │         │\n",
       "│                 │                     │                    │                     │   team_name='Weig… │         │\n",
       "│                 │                     │                    │                     │ and Biases',       │         │\n",
       "│                 │                     │                    │                     │   channel_name='t… │         │\n",
       "│                 │                     │                    │                     │  ),                │         │\n",
       "│                 │                     │                    │                     │  title='New model  │         │\n",
       "│                 │                     │                    │                     │ version linked to  │         │\n",
       "│                 │                     │                    │                     │ the registered     │         │\n",
       "│                 │                     │                    │                     │ model: Automotive  │         │\n",
       "│                 │                     │                    │                     │ Model',            │         │\n",
       "│                 │                     │                    │                     │  message='Insert   │         │\n",
       "│                 │                     │                    │                     │ Artifact Info      │         │\n",
       "│                 │                     │                    │                     │ here',             │         │\n",
       "│                 │                     │                    │                     │  severity='INFO'   │         │\n",
       "│                 │                     │                    │                     │ )                  │         │\n",
       "└─────────────────┴─────────────────────┴────────────────────┴─────────────────────┴────────────────────┴─────────┘\n",
       "</pre>\n"
      ],
      "text/plain": [
       "\u001b[3mAutomations                                                                                                        \u001b[0m\n",
       "┏━━━━━━━━━━━━━━━━━┳━━━━━━━━━━━━━━━━━━━━━┳━━━━━━━━━━━━━━━━━━━━┳━━━━━━━━━━━━━━━━━━━━━┳━━━━━━━━━━━━━━━━━━━━┳━━━━━━━━━┓\n",
       "┃\u001b[1m \u001b[0m\u001b[1mname           \u001b[0m\u001b[1m \u001b[0m┃\u001b[1m \u001b[0m\u001b[1mdescription        \u001b[0m\u001b[1m \u001b[0m┃\u001b[1m \u001b[0m\u001b[1mscope             \u001b[0m\u001b[1m \u001b[0m┃\u001b[1m \u001b[0m\u001b[1mevent              \u001b[0m\u001b[1m \u001b[0m┃\u001b[1m \u001b[0m\u001b[1maction            \u001b[0m\u001b[1m \u001b[0m┃\u001b[1m \u001b[0m\u001b[1menabled\u001b[0m\u001b[1m \u001b[0m┃\n",
       "┡━━━━━━━━━━━━━━━━━╇━━━━━━━━━━━━━━━━━━━━━╇━━━━━━━━━━━━━━━━━━━━╇━━━━━━━━━━━━━━━━━━━━━╇━━━━━━━━━━━━━━━━━━━━╇━━━━━━━━━┩\n",
       "│ webhook-modal-… │ Simple webhook test │ ARTIFACT_COLLECTI… │ ADD_ARTIFACT_ALIAS… │ WebhookAction(     │ True    │\n",
       "│                 │ assuming model      │ Segmentation')     │                     │  integration=Webh… │         │\n",
       "│                 │ deployment with     │                    │                     │   name='webhook-m… │         │\n",
       "│                 │ modal               │                    │                     │   url_endpoint=Ur… │         │\n",
       "│                 │                     │                    │                     │  ),                │         │\n",
       "│                 │                     │                    │                     │  request_payload={ │         │\n",
       "│                 │                     │                    │                     │   'event_type':    │         │\n",
       "│                 │                     │                    │                     │ '${event_type}',   │         │\n",
       "│                 │                     │                    │                     │   'event_author':  │         │\n",
       "│                 │                     │                    │                     │ '${event_author}', │         │\n",
       "│                 │                     │                    │                     │   ... +6           │         │\n",
       "│                 │                     │                    │                     │  }                 │         │\n",
       "│                 │                     │                    │                     │ )                  │         │\n",
       "├─────────────────┼─────────────────────┼────────────────────┼─────────────────────┼────────────────────┼─────────┤\n",
       "│ test            │ test                │ ARTIFACT_COLLECTI… │ LINK_MODEL(filter=… │ QueueJobAction(    │ True    │\n",
       "│                 │                     │                    │                     │  queue=RunQueue(n… │         │\n",
       "│                 │                     │                    │                     │ queue'),           │         │\n",
       "│                 │                     │                    │                     │  template={'autho… │         │\n",
       "│                 │                     │                    │                     │ 'joe-cloughley',   │         │\n",
       "│                 │                     │                    │                     │ 'entity':          │         │\n",
       "│                 │                     │                    │                     │ 'wandb-designers', │         │\n",
       "│                 │                     │                    │                     │ ... +3}            │         │\n",
       "│                 │                     │                    │                     │ )                  │         │\n",
       "├─────────────────┼─────────────────────┼────────────────────┼─────────────────────┼────────────────────┼─────────┤\n",
       "│ slack-link-art… │ None                │ ARTIFACT_COLLECTI… │ LINK_MODEL(filter=… │ NotificationActio… │ True    │\n",
       "│                 │                     │ Model')            │                     │  integration=Slac… │         │\n",
       "│                 │                     │                    │                     │   team_name='Weig… │         │\n",
       "│                 │                     │                    │                     │ and Biases',       │         │\n",
       "│                 │                     │                    │                     │   channel_name='t… │         │\n",
       "│                 │                     │                    │                     │  ),                │         │\n",
       "│                 │                     │                    │                     │  title='New model  │         │\n",
       "│                 │                     │                    │                     │ version linked to  │         │\n",
       "│                 │                     │                    │                     │ the registered     │         │\n",
       "│                 │                     │                    │                     │ model: Automotive  │         │\n",
       "│                 │                     │                    │                     │ Model',            │         │\n",
       "│                 │                     │                    │                     │  message='Insert   │         │\n",
       "│                 │                     │                    │                     │ Artifact Info      │         │\n",
       "│                 │                     │                    │                     │ here',             │         │\n",
       "│                 │                     │                    │                     │  severity='INFO'   │         │\n",
       "│                 │                     │                    │                     │ )                  │         │\n",
       "└─────────────────┴─────────────────────┴────────────────────┴─────────────────────┴────────────────────┴─────────┘\n"
      ]
     },
     "metadata": {},
     "output_type": "display_data"
    }
   ],
   "source": [
    "first_rows = make_table(triggers[:3])\n",
    "print(first_rows)"
   ]
  },
  {
   "cell_type": "code",
   "execution_count": 6,
   "id": "db2721ef-fa25-4045-9863-ff4035a54087",
   "metadata": {},
   "outputs": [
    {
     "data": {
      "text/html": [
       "<pre style=\"white-space:pre;overflow-x:auto;line-height:normal;font-family:Menlo,'DejaVu Sans Mono',consolas,'Courier New',monospace\"><span style=\"font-style: italic\">Automations                                                                                                        </span>\n",
       "┏━━━━━━━━━━━━━━━━━┳━━━━━━━━━━━━━━━━━━━━━┳━━━━━━━━━━━━━━━━━━━━┳━━━━━━━━━━━━━━━━━━━━━┳━━━━━━━━━━━━━━━━━━━━┳━━━━━━━━━┓\n",
       "┃<span style=\"font-weight: bold\"> name            </span>┃<span style=\"font-weight: bold\"> description         </span>┃<span style=\"font-weight: bold\"> scope              </span>┃<span style=\"font-weight: bold\"> event               </span>┃<span style=\"font-weight: bold\"> action             </span>┃<span style=\"font-weight: bold\"> enabled </span>┃\n",
       "┡━━━━━━━━━━━━━━━━━╇━━━━━━━━━━━━━━━━━━━━━╇━━━━━━━━━━━━━━━━━━━━╇━━━━━━━━━━━━━━━━━━━━━╇━━━━━━━━━━━━━━━━━━━━╇━━━━━━━━━┩\n",
       "│ GHA-IBINDLISH   │ Trigger the webhook │ ARTIFACT_COLLECTI… │ ADD_ARTIFACT_ALIAS… │ WebhookAction(     │ True    │\n",
       "│                 │ \"github-action-ibi… │                    │                     │  integration=Webh… │         │\n",
       "│                 │ whenever the alias  │                    │                     │   name='github-ac… │         │\n",
       "│                 │ \"github-prod\" is    │                    │                     │   url_endpoint=Ur… │         │\n",
       "│                 │ added to any        │                    │                     │  ),                │         │\n",
       "│                 │ version in the      │                    │                     │  request_payload=… │         │\n",
       "│                 │ collection          │                    │                     │ 'LINK_MODEL',      │         │\n",
       "│                 │ \"test-model-for-we… │                    │                     │ 'client_payload':  │         │\n",
       "│                 │                     │                    │                     │ {...}}             │         │\n",
       "│                 │                     │                    │                     │ )                  │         │\n",
       "├─────────────────┼─────────────────────┼────────────────────┼─────────────────────┼────────────────────┼─────────┤\n",
       "│ jefjeqrejvev    │ Trigger the webhook │ ARTIFACT_COLLECTI… │ LINK_MODEL(filter=… │ WebhookAction(     │ True    │\n",
       "│                 │ \"webhook to         │                    │                     │  integration=Webh… │         │\n",
       "│                 │ noa-webhook-sandbo… │                    │                     │   name='webhook to │         │\n",
       "│                 │ whenever a new      │                    │                     │ noa-webhook-sandb… │         │\n",
       "│                 │ model version is    │                    │                     │   url_endpoint=Ur… │         │\n",
       "│                 │ linked to           │                    │                     │  ),                │         │\n",
       "│                 │ \"noas-fanciest-dat… │                    │                     │  request_payload=… │         │\n",
       "│                 │                     │                    │                     │ )                  │         │\n",
       "├─────────────────┼─────────────────────┼────────────────────┼─────────────────────┼────────────────────┼─────────┤\n",
       "│ Testing progra… │ who knows if this   │ ARTIFACT_COLLECTI… │ LINK_MODEL(filter=… │ NotificationActio… │ True    │\n",
       "│                 │ will work           │                    │ '{\"$or\":[{\"$and\":[… │  integration=Slac… │         │\n",
       "│                 │                     │                    │                     │   team_name='Weig… │         │\n",
       "│                 │                     │                    │                     │ and Biases',       │         │\n",
       "│                 │                     │                    │                     │   channel_name='@… │         │\n",
       "│                 │                     │                    │                     │  ),                │         │\n",
       "│                 │                     │                    │                     │  title='Artifact   │         │\n",
       "│                 │                     │                    │                     │ linked!',          │         │\n",
       "│                 │                     │                    │                     │  message='Program… │         │\n",
       "│                 │                     │                    │                     │ API test           │         │\n",
       "│                 │                     │                    │                     │ successful!',      │         │\n",
       "│                 │                     │                    │                     │  severity='INFO'   │         │\n",
       "│                 │                     │                    │                     │ )                  │         │\n",
       "└─────────────────┴─────────────────────┴────────────────────┴─────────────────────┴────────────────────┴─────────┘\n",
       "</pre>\n"
      ],
      "text/plain": [
       "\u001b[3mAutomations                                                                                                        \u001b[0m\n",
       "┏━━━━━━━━━━━━━━━━━┳━━━━━━━━━━━━━━━━━━━━━┳━━━━━━━━━━━━━━━━━━━━┳━━━━━━━━━━━━━━━━━━━━━┳━━━━━━━━━━━━━━━━━━━━┳━━━━━━━━━┓\n",
       "┃\u001b[1m \u001b[0m\u001b[1mname           \u001b[0m\u001b[1m \u001b[0m┃\u001b[1m \u001b[0m\u001b[1mdescription        \u001b[0m\u001b[1m \u001b[0m┃\u001b[1m \u001b[0m\u001b[1mscope             \u001b[0m\u001b[1m \u001b[0m┃\u001b[1m \u001b[0m\u001b[1mevent              \u001b[0m\u001b[1m \u001b[0m┃\u001b[1m \u001b[0m\u001b[1maction            \u001b[0m\u001b[1m \u001b[0m┃\u001b[1m \u001b[0m\u001b[1menabled\u001b[0m\u001b[1m \u001b[0m┃\n",
       "┡━━━━━━━━━━━━━━━━━╇━━━━━━━━━━━━━━━━━━━━━╇━━━━━━━━━━━━━━━━━━━━╇━━━━━━━━━━━━━━━━━━━━━╇━━━━━━━━━━━━━━━━━━━━╇━━━━━━━━━┩\n",
       "│ GHA-IBINDLISH   │ Trigger the webhook │ ARTIFACT_COLLECTI… │ ADD_ARTIFACT_ALIAS… │ WebhookAction(     │ True    │\n",
       "│                 │ \"github-action-ibi… │                    │                     │  integration=Webh… │         │\n",
       "│                 │ whenever the alias  │                    │                     │   name='github-ac… │         │\n",
       "│                 │ \"github-prod\" is    │                    │                     │   url_endpoint=Ur… │         │\n",
       "│                 │ added to any        │                    │                     │  ),                │         │\n",
       "│                 │ version in the      │                    │                     │  request_payload=… │         │\n",
       "│                 │ collection          │                    │                     │ 'LINK_MODEL',      │         │\n",
       "│                 │ \"test-model-for-we… │                    │                     │ 'client_payload':  │         │\n",
       "│                 │                     │                    │                     │ {...}}             │         │\n",
       "│                 │                     │                    │                     │ )                  │         │\n",
       "├─────────────────┼─────────────────────┼────────────────────┼─────────────────────┼────────────────────┼─────────┤\n",
       "│ jefjeqrejvev    │ Trigger the webhook │ ARTIFACT_COLLECTI… │ LINK_MODEL(filter=… │ WebhookAction(     │ True    │\n",
       "│                 │ \"webhook to         │                    │                     │  integration=Webh… │         │\n",
       "│                 │ noa-webhook-sandbo… │                    │                     │   name='webhook to │         │\n",
       "│                 │ whenever a new      │                    │                     │ noa-webhook-sandb… │         │\n",
       "│                 │ model version is    │                    │                     │   url_endpoint=Ur… │         │\n",
       "│                 │ linked to           │                    │                     │  ),                │         │\n",
       "│                 │ \"noas-fanciest-dat… │                    │                     │  request_payload=… │         │\n",
       "│                 │                     │                    │                     │ )                  │         │\n",
       "├─────────────────┼─────────────────────┼────────────────────┼─────────────────────┼────────────────────┼─────────┤\n",
       "│ Testing progra… │ who knows if this   │ ARTIFACT_COLLECTI… │ LINK_MODEL(filter=… │ NotificationActio… │ True    │\n",
       "│                 │ will work           │                    │ '{\"$or\":[{\"$and\":[… │  integration=Slac… │         │\n",
       "│                 │                     │                    │                     │   team_name='Weig… │         │\n",
       "│                 │                     │                    │                     │ and Biases',       │         │\n",
       "│                 │                     │                    │                     │   channel_name='@… │         │\n",
       "│                 │                     │                    │                     │  ),                │         │\n",
       "│                 │                     │                    │                     │  title='Artifact   │         │\n",
       "│                 │                     │                    │                     │ linked!',          │         │\n",
       "│                 │                     │                    │                     │  message='Program… │         │\n",
       "│                 │                     │                    │                     │ API test           │         │\n",
       "│                 │                     │                    │                     │ successful!',      │         │\n",
       "│                 │                     │                    │                     │  severity='INFO'   │         │\n",
       "│                 │                     │                    │                     │ )                  │         │\n",
       "└─────────────────┴─────────────────────┴────────────────────┴─────────────────────┴────────────────────┴─────────┘\n"
      ]
     },
     "metadata": {},
     "output_type": "display_data"
    }
   ],
   "source": [
    "last_rows = make_table(triggers[-3:])\n",
    "print(last_rows)"
   ]
  },
  {
   "cell_type": "markdown",
   "id": "58e7b6e0-f884-4e35-9aac-7d8895c96fb3",
   "metadata": {},
   "source": [
    "Inspecting a single automation"
   ]
  },
  {
   "cell_type": "code",
   "execution_count": 7,
   "id": "164c39d9-0260-4a7f-9bf2-0503c232200f",
   "metadata": {},
   "outputs": [
    {
     "data": {
      "text/html": [
       "<pre style=\"white-space:pre;overflow-x:auto;line-height:normal;font-family:Menlo,'DejaVu Sans Mono',consolas,'Courier New',monospace\"><span style=\"color: #800080; text-decoration-color: #800080; font-weight: bold\">Automation</span><span style=\"font-weight: bold\">(</span>\n",
       "<span style=\"color: #7fbf7f; text-decoration-color: #7fbf7f\">│   </span><span style=\"color: #808000; text-decoration-color: #808000\">name</span>=<span style=\"color: #008000; text-decoration-color: #008000\">'webhook-modal-production-test'</span>,\n",
       "<span style=\"color: #7fbf7f; text-decoration-color: #7fbf7f\">│   </span><span style=\"color: #808000; text-decoration-color: #808000\">description</span>=<span style=\"color: #008000; text-decoration-color: #008000\">'Simple webhook test assuming model deployment with modal'</span>,\n",
       "<span style=\"color: #7fbf7f; text-decoration-color: #7fbf7f\">│   </span><span style=\"color: #808000; text-decoration-color: #808000\">scope</span>=<span style=\"color: #800080; text-decoration-color: #800080; font-weight: bold\">ArtifactCollectionScope</span><span style=\"font-weight: bold\">(</span><span style=\"color: #808000; text-decoration-color: #808000\">name</span>=<span style=\"color: #008000; text-decoration-color: #008000\">'Tumor Segmentation'</span><span style=\"font-weight: bold\">)</span>,\n",
       "<span style=\"color: #7fbf7f; text-decoration-color: #7fbf7f\">│   </span><span style=\"color: #808000; text-decoration-color: #808000\">event</span>=<span style=\"color: #800080; text-decoration-color: #800080; font-weight: bold\">Event</span><span style=\"font-weight: bold\">(</span><span style=\"color: #808000; text-decoration-color: #808000\">filter</span>=<span style=\"color: #800080; text-decoration-color: #800080; font-weight: bold\">FieldFilter</span><span style=\"font-weight: bold\">(</span><span style=\"color: #808000; text-decoration-color: #808000\">alias</span>=<span style=\"color: #800080; text-decoration-color: #800080; font-weight: bold\">Regex</span><span style=\"font-weight: bold\">(</span><span style=\"color: #008000; text-decoration-color: #008000\">'production'</span><span style=\"font-weight: bold\">)))</span>,\n",
       "<span style=\"color: #7fbf7f; text-decoration-color: #7fbf7f\">│   </span><span style=\"color: #808000; text-decoration-color: #808000\">action</span>=<span style=\"color: #800080; text-decoration-color: #800080; font-weight: bold\">WebhookAction</span><span style=\"font-weight: bold\">(</span>\n",
       "<span style=\"color: #7fbf7f; text-decoration-color: #7fbf7f\">│   │   </span><span style=\"color: #808000; text-decoration-color: #808000\">integration</span>=<span style=\"color: #800080; text-decoration-color: #800080; font-weight: bold\">WebhookIntegration</span><span style=\"font-weight: bold\">(</span>\n",
       "<span style=\"color: #7fbf7f; text-decoration-color: #7fbf7f\">│   │   │   </span><span style=\"color: #808000; text-decoration-color: #808000\">name</span>=<span style=\"color: #008000; text-decoration-color: #008000\">'webhook-modal-test'</span>,\n",
       "<span style=\"color: #7fbf7f; text-decoration-color: #7fbf7f\">│   │   │   </span><span style=\"color: #808000; text-decoration-color: #808000\">url_endpoint</span>=<span style=\"color: #800080; text-decoration-color: #800080; font-weight: bold\">Url</span><span style=\"font-weight: bold\">(</span><span style=\"color: #008000; text-decoration-color: #008000\">'https://olachinkei--wandb-hook-f.modal.run/'</span><span style=\"font-weight: bold\">)</span>\n",
       "<span style=\"color: #7fbf7f; text-decoration-color: #7fbf7f\">│   │   </span><span style=\"font-weight: bold\">)</span>,\n",
       "<span style=\"color: #7fbf7f; text-decoration-color: #7fbf7f\">│   │   </span><span style=\"color: #808000; text-decoration-color: #808000\">request_payload</span>=<span style=\"font-weight: bold\">{</span>\n",
       "<span style=\"color: #7fbf7f; text-decoration-color: #7fbf7f\">│   │   │   </span><span style=\"color: #008000; text-decoration-color: #008000\">'event_type'</span>: <span style=\"color: #008000; text-decoration-color: #008000\">'${event_type}'</span>,\n",
       "<span style=\"color: #7fbf7f; text-decoration-color: #7fbf7f\">│   │   │   </span><span style=\"color: #008000; text-decoration-color: #008000\">'event_author'</span>: <span style=\"color: #008000; text-decoration-color: #008000\">'${event_author}'</span>,\n",
       "<span style=\"color: #7fbf7f; text-decoration-color: #7fbf7f\">│   │   │   </span><span style=\"color: #008000; text-decoration-color: #008000\">'alias'</span>: <span style=\"color: #008000; text-decoration-color: #008000\">'${alias}'</span>,\n",
       "<span style=\"color: #7fbf7f; text-decoration-color: #7fbf7f\">│   │   │   </span><span style=\"color: #008000; text-decoration-color: #008000\">'artifact_version'</span>: <span style=\"color: #008000; text-decoration-color: #008000\">'${artifact_version}'</span>,\n",
       "<span style=\"color: #7fbf7f; text-decoration-color: #7fbf7f\">│   │   │   </span><span style=\"color: #008000; text-decoration-color: #008000\">'artifact_version_string'</span>: <span style=\"color: #008000; text-decoration-color: #008000\">'${artifact_version_string}'</span>,\n",
       "<span style=\"color: #7fbf7f; text-decoration-color: #7fbf7f\">│   │   │   </span><span style=\"color: #008000; text-decoration-color: #008000\">'artifact_collection_name'</span>: <span style=\"color: #008000; text-decoration-color: #008000\">'${artifact_collection_name}'</span>,\n",
       "<span style=\"color: #7fbf7f; text-decoration-color: #7fbf7f\">│   │   │   </span><span style=\"color: #008000; text-decoration-color: #008000\">'project_name'</span>: <span style=\"color: #008000; text-decoration-color: #008000\">'${project_name}'</span>,\n",
       "<span style=\"color: #7fbf7f; text-decoration-color: #7fbf7f\">│   │   │   </span><span style=\"color: #008000; text-decoration-color: #008000\">'entity_name'</span>: <span style=\"color: #008000; text-decoration-color: #008000\">'${entity_name}'</span>\n",
       "<span style=\"color: #7fbf7f; text-decoration-color: #7fbf7f\">│   │   </span><span style=\"font-weight: bold\">}</span>\n",
       "<span style=\"color: #7fbf7f; text-decoration-color: #7fbf7f\">│   </span><span style=\"font-weight: bold\">)</span>,\n",
       "<span style=\"color: #7fbf7f; text-decoration-color: #7fbf7f\">│   </span><span style=\"color: #808000; text-decoration-color: #808000\">enabled</span>=<span style=\"color: #00ff00; text-decoration-color: #00ff00; font-style: italic\">True</span>\n",
       "<span style=\"font-weight: bold\">)</span>\n",
       "</pre>\n"
      ],
      "text/plain": [
       "\u001b[1;35mAutomation\u001b[0m\u001b[1m(\u001b[0m\n",
       "\u001b[2;32m│   \u001b[0m\u001b[33mname\u001b[0m=\u001b[32m'webhook-modal-production-test'\u001b[0m,\n",
       "\u001b[2;32m│   \u001b[0m\u001b[33mdescription\u001b[0m=\u001b[32m'Simple webhook test assuming model deployment with modal'\u001b[0m,\n",
       "\u001b[2;32m│   \u001b[0m\u001b[33mscope\u001b[0m=\u001b[1;35mArtifactCollectionScope\u001b[0m\u001b[1m(\u001b[0m\u001b[33mname\u001b[0m=\u001b[32m'Tumor Segmentation'\u001b[0m\u001b[1m)\u001b[0m,\n",
       "\u001b[2;32m│   \u001b[0m\u001b[33mevent\u001b[0m=\u001b[1;35mEvent\u001b[0m\u001b[1m(\u001b[0m\u001b[33mfilter\u001b[0m=\u001b[1;35mFieldFilter\u001b[0m\u001b[1m(\u001b[0m\u001b[33malias\u001b[0m=\u001b[1;35mRegex\u001b[0m\u001b[1m(\u001b[0m\u001b[32m'production'\u001b[0m\u001b[1m)\u001b[0m\u001b[1m)\u001b[0m\u001b[1m)\u001b[0m,\n",
       "\u001b[2;32m│   \u001b[0m\u001b[33maction\u001b[0m=\u001b[1;35mWebhookAction\u001b[0m\u001b[1m(\u001b[0m\n",
       "\u001b[2;32m│   │   \u001b[0m\u001b[33mintegration\u001b[0m=\u001b[1;35mWebhookIntegration\u001b[0m\u001b[1m(\u001b[0m\n",
       "\u001b[2;32m│   │   │   \u001b[0m\u001b[33mname\u001b[0m=\u001b[32m'webhook-modal-test'\u001b[0m,\n",
       "\u001b[2;32m│   │   │   \u001b[0m\u001b[33murl_endpoint\u001b[0m=\u001b[1;35mUrl\u001b[0m\u001b[1m(\u001b[0m\u001b[32m'https://olachinkei--wandb-hook-f.modal.run/'\u001b[0m\u001b[1m)\u001b[0m\n",
       "\u001b[2;32m│   │   \u001b[0m\u001b[1m)\u001b[0m,\n",
       "\u001b[2;32m│   │   \u001b[0m\u001b[33mrequest_payload\u001b[0m=\u001b[1m{\u001b[0m\n",
       "\u001b[2;32m│   │   │   \u001b[0m\u001b[32m'event_type'\u001b[0m: \u001b[32m'$\u001b[0m\u001b[32m{\u001b[0m\u001b[32mevent_type\u001b[0m\u001b[32m}\u001b[0m\u001b[32m'\u001b[0m,\n",
       "\u001b[2;32m│   │   │   \u001b[0m\u001b[32m'event_author'\u001b[0m: \u001b[32m'$\u001b[0m\u001b[32m{\u001b[0m\u001b[32mevent_author\u001b[0m\u001b[32m}\u001b[0m\u001b[32m'\u001b[0m,\n",
       "\u001b[2;32m│   │   │   \u001b[0m\u001b[32m'alias'\u001b[0m: \u001b[32m'$\u001b[0m\u001b[32m{\u001b[0m\u001b[32malias\u001b[0m\u001b[32m}\u001b[0m\u001b[32m'\u001b[0m,\n",
       "\u001b[2;32m│   │   │   \u001b[0m\u001b[32m'artifact_version'\u001b[0m: \u001b[32m'$\u001b[0m\u001b[32m{\u001b[0m\u001b[32martifact_version\u001b[0m\u001b[32m}\u001b[0m\u001b[32m'\u001b[0m,\n",
       "\u001b[2;32m│   │   │   \u001b[0m\u001b[32m'artifact_version_string'\u001b[0m: \u001b[32m'$\u001b[0m\u001b[32m{\u001b[0m\u001b[32martifact_version_string\u001b[0m\u001b[32m}\u001b[0m\u001b[32m'\u001b[0m,\n",
       "\u001b[2;32m│   │   │   \u001b[0m\u001b[32m'artifact_collection_name'\u001b[0m: \u001b[32m'$\u001b[0m\u001b[32m{\u001b[0m\u001b[32martifact_collection_name\u001b[0m\u001b[32m}\u001b[0m\u001b[32m'\u001b[0m,\n",
       "\u001b[2;32m│   │   │   \u001b[0m\u001b[32m'project_name'\u001b[0m: \u001b[32m'$\u001b[0m\u001b[32m{\u001b[0m\u001b[32mproject_name\u001b[0m\u001b[32m}\u001b[0m\u001b[32m'\u001b[0m,\n",
       "\u001b[2;32m│   │   │   \u001b[0m\u001b[32m'entity_name'\u001b[0m: \u001b[32m'$\u001b[0m\u001b[32m{\u001b[0m\u001b[32mentity_name\u001b[0m\u001b[32m}\u001b[0m\u001b[32m'\u001b[0m\n",
       "\u001b[2;32m│   │   \u001b[0m\u001b[1m}\u001b[0m\n",
       "\u001b[2;32m│   \u001b[0m\u001b[1m)\u001b[0m,\n",
       "\u001b[2;32m│   \u001b[0m\u001b[33menabled\u001b[0m=\u001b[3;92mTrue\u001b[0m\n",
       "\u001b[1m)\u001b[0m\n"
      ]
     },
     "metadata": {},
     "output_type": "display_data"
    }
   ],
   "source": [
    "pprint(triggers[0])"
   ]
  },
  {
   "cell_type": "markdown",
   "id": "a1b9e491-4f8e-47bc-b3cb-fe28781340cc",
   "metadata": {},
   "source": [
    "## Defining a new automation"
   ]
  },
  {
   "cell_type": "code",
   "execution_count": 8,
   "id": "b6da29f9-4476-4d05-960e-f2416bbf5b46",
   "metadata": {},
   "outputs": [],
   "source": [
    "api = Api()"
   ]
  },
  {
   "cell_type": "markdown",
   "id": "bd60b963-7b2b-41f8-b302-7f6e8c4015e9",
   "metadata": {},
   "source": [
    "I'll fetch an artifact collection I created for other reasons a while back, via the SDK.\n",
    "\n",
    "In the app, the overview page for the actual collection is here: [link](https://wandb.ai/registry/dataset?selectionPath=artifact-tags-demo-org%2Fwandb-registry-dataset%2Fbest-data&view=versions)."
   ]
  },
  {
   "cell_type": "code",
   "execution_count": 9,
   "id": "5cfd7b03-a174-4db5-a273-6bb933c80c38",
   "metadata": {},
   "outputs": [],
   "source": [
    "my_collection = api.artifact_collection(\n",
    "    type_name=\"dataset\", name=\"artifact-tags-demo-org/wandb-registry-dataset/best-data\"\n",
    ")"
   ]
  },
  {
   "cell_type": "code",
   "execution_count": 10,
   "id": "6cc5c500-9efb-404a-88dc-cf287d49273a",
   "metadata": {},
   "outputs": [
    {
     "data": {
      "text/html": [
       "<pre style=\"white-space:pre;overflow-x:auto;line-height:normal;font-family:Menlo,'DejaVu Sans Mono',consolas,'Courier New',monospace\"><span style=\"font-weight: bold\">&lt;</span><span style=\"color: #ff00ff; text-decoration-color: #ff00ff; font-weight: bold\">ArtifactCollection</span><span style=\"color: #000000; text-decoration-color: #000000\"> best-data </span><span style=\"color: #000000; text-decoration-color: #000000; font-weight: bold\">(</span><span style=\"color: #000000; text-decoration-color: #000000\">dataset</span><span style=\"color: #000000; text-decoration-color: #000000; font-weight: bold\">)</span><span style=\"font-weight: bold\">&gt;</span>\n",
       "</pre>\n"
      ],
      "text/plain": [
       "\u001b[1m<\u001b[0m\u001b[1;95mArtifactCollection\u001b[0m\u001b[39m best-data \u001b[0m\u001b[1;39m(\u001b[0m\u001b[39mdataset\u001b[0m\u001b[1;39m)\u001b[0m\u001b[1m>\u001b[0m\n"
      ]
     },
     "metadata": {},
     "output_type": "display_data"
    }
   ],
   "source": [
    "pprint(my_collection)"
   ]
  },
  {
   "cell_type": "markdown",
   "id": "2ad187ee-340f-4332-9eb5-e498772967ca",
   "metadata": {},
   "source": [
    "Before this, I already set up Slack integration on my [user settings page](https://wandb.ai/settings).  Note: this'll be different than setting up Slack integration for a team, but for the moment it'll do."
   ]
  },
  {
   "cell_type": "markdown",
   "id": "9f2d7838-2a1b-4a41-9823-530d0f253a59",
   "metadata": {},
   "source": [
    "### Define the (triggering) event -- i.e. an artifact is linked to my collection"
   ]
  },
  {
   "cell_type": "code",
   "execution_count": 11,
   "id": "25ad8278-564f-4243-9e68-de14ccb71716",
   "metadata": {},
   "outputs": [],
   "source": [
    "# event = events.LinkArtifact(scope=my_collection)\n",
    "\n",
    "# OR -- Alternative syntax (not final)\n",
    "event = automations.on(events.LINK_ARTIFACT, scope=my_collection)"
   ]
  },
  {
   "cell_type": "markdown",
   "id": "ca3518dd-7e0e-4504-8655-cc0a95a16d40",
   "metadata": {},
   "source": [
    "### Define the (triggered) action -- i.e. send a Slack message\n",
    "\n",
    "Under the hood, the SDK checks if I have an existing Slack integration.  It'll fail, with a link to the settings page in the message, if appropriate."
   ]
  },
  {
   "cell_type": "code",
   "execution_count": 12,
   "id": "806cc3d0-1ee5-43d2-b05a-00300f3eb3e0",
   "metadata": {},
   "outputs": [],
   "source": [
    "action = actions.NewNotification(\n",
    "    title=\"Artifact linked!\",\n",
    "    message=\"Programmatic API test successful!\",\n",
    "    severity=\"INFO\",\n",
    ")"
   ]
  },
  {
   "cell_type": "markdown",
   "id": "d598e2c7-fe41-483b-9cca-28af478807c2",
   "metadata": {},
   "source": [
    "### Define the automation by linking the event to the action"
   ]
  },
  {
   "cell_type": "code",
   "execution_count": 13,
   "id": "9ec5f9b8-6cfb-4842-bd36-1054d299ce68",
   "metadata": {},
   "outputs": [],
   "source": [
    "new_automation = automations.define(\n",
    "    event >> action,\n",
    "    name=\"Testing programmatic automations API\",\n",
    "    description=\"who knows if this will work\",\n",
    ")"
   ]
  },
  {
   "cell_type": "markdown",
   "id": "e1c919b7-1f91-4f42-b2df-381cb93c8cdb",
   "metadata": {},
   "source": [
    "The new automation, which hasn't yet been saved to the W&B server, looks like:"
   ]
  },
  {
   "cell_type": "code",
   "execution_count": 14,
   "id": "556e5c25-659f-44a1-98a7-80084be5f923",
   "metadata": {},
   "outputs": [
    {
     "data": {
      "text/html": [
       "<pre style=\"white-space:pre;overflow-x:auto;line-height:normal;font-family:Menlo,'DejaVu Sans Mono',consolas,'Courier New',monospace\"><span style=\"color: #800080; text-decoration-color: #800080; font-weight: bold\">NewAutomation</span><span style=\"font-weight: bold\">(</span>\n",
       "<span style=\"color: #7fbf7f; text-decoration-color: #7fbf7f\">│   </span><span style=\"color: #808000; text-decoration-color: #808000\">name</span>=<span style=\"color: #008000; text-decoration-color: #008000\">'Testing programmatic automations API'</span>,\n",
       "<span style=\"color: #7fbf7f; text-decoration-color: #7fbf7f\">│   </span><span style=\"color: #808000; text-decoration-color: #808000\">description</span>=<span style=\"color: #008000; text-decoration-color: #008000\">'who knows if this will work'</span>,\n",
       "<span style=\"color: #7fbf7f; text-decoration-color: #7fbf7f\">│   </span><span style=\"color: #808000; text-decoration-color: #808000\">enabled</span>=<span style=\"color: #00ff00; text-decoration-color: #00ff00; font-style: italic\">True</span>,\n",
       "<span style=\"color: #7fbf7f; text-decoration-color: #7fbf7f\">│   </span><span style=\"color: #808000; text-decoration-color: #808000\">scope</span>=<span style=\"color: #800080; text-decoration-color: #800080; font-weight: bold\">ArtifactCollectionScope</span><span style=\"font-weight: bold\">(</span><span style=\"color: #808000; text-decoration-color: #808000\">name</span>=<span style=\"color: #008000; text-decoration-color: #008000\">'best-data'</span><span style=\"font-weight: bold\">)</span>,\n",
       "<span style=\"color: #7fbf7f; text-decoration-color: #7fbf7f\">│   </span><span style=\"color: #808000; text-decoration-color: #808000\">event</span>=<span style=\"color: #800080; text-decoration-color: #800080; font-weight: bold\">LinkArtifact</span><span style=\"font-weight: bold\">(</span>\n",
       "<span style=\"color: #7fbf7f; text-decoration-color: #7fbf7f\">│   │   </span><span style=\"color: #808000; text-decoration-color: #808000\">event_type</span>=<span style=\"color: #800080; text-decoration-color: #800080\">events</span>.LINK_ARTIFACT,\n",
       "<span style=\"color: #7fbf7f; text-decoration-color: #7fbf7f\">│   │   </span><span style=\"color: #808000; text-decoration-color: #808000\">scope</span>=<span style=\"color: #800080; text-decoration-color: #800080; font-weight: bold\">ArtifactCollectionScope</span><span style=\"font-weight: bold\">(</span><span style=\"color: #808000; text-decoration-color: #808000\">name</span>=<span style=\"color: #008000; text-decoration-color: #008000\">'best-data'</span><span style=\"font-weight: bold\">)</span>,\n",
       "<span style=\"color: #7fbf7f; text-decoration-color: #7fbf7f\">│   │   </span><span style=\"color: #808000; text-decoration-color: #808000\">filter</span>=<span style=\"color: #800080; text-decoration-color: #800080; font-weight: bold\">EventFilter</span><span style=\"font-weight: bold\">(</span><span style=\"color: #808000; text-decoration-color: #808000\">filter</span>=<span style=\"color: #800080; text-decoration-color: #800080; font-weight: bold\">Or</span><span style=\"font-weight: bold\">(</span><span style=\"color: #800080; text-decoration-color: #800080; font-weight: bold\">And</span><span style=\"font-weight: bold\">()))</span>\n",
       "<span style=\"color: #7fbf7f; text-decoration-color: #7fbf7f\">│   </span><span style=\"font-weight: bold\">)</span>,\n",
       "<span style=\"color: #7fbf7f; text-decoration-color: #7fbf7f\">│   </span><span style=\"color: #808000; text-decoration-color: #808000\">action</span>=<span style=\"color: #800080; text-decoration-color: #800080; font-weight: bold\">NewNotification</span><span style=\"font-weight: bold\">(</span>\n",
       "<span style=\"color: #7fbf7f; text-decoration-color: #7fbf7f\">│   │   </span><span style=\"color: #808000; text-decoration-color: #808000\">action_type</span>=<span style=\"color: #800080; text-decoration-color: #800080\">actions</span>.NOTIFICATION,\n",
       "<span style=\"color: #7fbf7f; text-decoration-color: #7fbf7f\">│   │   </span><span style=\"color: #808000; text-decoration-color: #808000\">title</span>=<span style=\"color: #008000; text-decoration-color: #008000\">'Artifact linked!'</span>,\n",
       "<span style=\"color: #7fbf7f; text-decoration-color: #7fbf7f\">│   │   </span><span style=\"color: #808000; text-decoration-color: #808000\">message</span>=<span style=\"color: #008000; text-decoration-color: #008000\">'Programmatic API test successful!'</span>,\n",
       "<span style=\"color: #7fbf7f; text-decoration-color: #7fbf7f\">│   │   </span><span style=\"color: #808000; text-decoration-color: #808000\">severity</span>=<span style=\"color: #008000; text-decoration-color: #008000\">'INFO'</span>\n",
       "<span style=\"color: #7fbf7f; text-decoration-color: #7fbf7f\">│   </span><span style=\"font-weight: bold\">)</span>,\n",
       "<span style=\"color: #7fbf7f; text-decoration-color: #7fbf7f\">│   </span><span style=\"color: #808000; text-decoration-color: #808000\">client_mutation_id</span>=<span style=\"color: #800080; text-decoration-color: #800080; font-style: italic\">None</span>\n",
       "<span style=\"font-weight: bold\">)</span>\n",
       "</pre>\n"
      ],
      "text/plain": [
       "\u001b[1;35mNewAutomation\u001b[0m\u001b[1m(\u001b[0m\n",
       "\u001b[2;32m│   \u001b[0m\u001b[33mname\u001b[0m=\u001b[32m'Testing programmatic automations API'\u001b[0m,\n",
       "\u001b[2;32m│   \u001b[0m\u001b[33mdescription\u001b[0m=\u001b[32m'who knows if this will work'\u001b[0m,\n",
       "\u001b[2;32m│   \u001b[0m\u001b[33menabled\u001b[0m=\u001b[3;92mTrue\u001b[0m,\n",
       "\u001b[2;32m│   \u001b[0m\u001b[33mscope\u001b[0m=\u001b[1;35mArtifactCollectionScope\u001b[0m\u001b[1m(\u001b[0m\u001b[33mname\u001b[0m=\u001b[32m'best-data'\u001b[0m\u001b[1m)\u001b[0m,\n",
       "\u001b[2;32m│   \u001b[0m\u001b[33mevent\u001b[0m=\u001b[1;35mLinkArtifact\u001b[0m\u001b[1m(\u001b[0m\n",
       "\u001b[2;32m│   │   \u001b[0m\u001b[33mevent_type\u001b[0m=\u001b[35mevents\u001b[0m.LINK_ARTIFACT,\n",
       "\u001b[2;32m│   │   \u001b[0m\u001b[33mscope\u001b[0m=\u001b[1;35mArtifactCollectionScope\u001b[0m\u001b[1m(\u001b[0m\u001b[33mname\u001b[0m=\u001b[32m'best-data'\u001b[0m\u001b[1m)\u001b[0m,\n",
       "\u001b[2;32m│   │   \u001b[0m\u001b[33mfilter\u001b[0m=\u001b[1;35mEventFilter\u001b[0m\u001b[1m(\u001b[0m\u001b[33mfilter\u001b[0m=\u001b[1;35mOr\u001b[0m\u001b[1m(\u001b[0m\u001b[1;35mAnd\u001b[0m\u001b[1m(\u001b[0m\u001b[1m)\u001b[0m\u001b[1m)\u001b[0m\u001b[1m)\u001b[0m\n",
       "\u001b[2;32m│   \u001b[0m\u001b[1m)\u001b[0m,\n",
       "\u001b[2;32m│   \u001b[0m\u001b[33maction\u001b[0m=\u001b[1;35mNewNotification\u001b[0m\u001b[1m(\u001b[0m\n",
       "\u001b[2;32m│   │   \u001b[0m\u001b[33maction_type\u001b[0m=\u001b[35mactions\u001b[0m.NOTIFICATION,\n",
       "\u001b[2;32m│   │   \u001b[0m\u001b[33mtitle\u001b[0m=\u001b[32m'Artifact linked!'\u001b[0m,\n",
       "\u001b[2;32m│   │   \u001b[0m\u001b[33mmessage\u001b[0m=\u001b[32m'Programmatic API test successful!'\u001b[0m,\n",
       "\u001b[2;32m│   │   \u001b[0m\u001b[33mseverity\u001b[0m=\u001b[32m'INFO'\u001b[0m\n",
       "\u001b[2;32m│   \u001b[0m\u001b[1m)\u001b[0m,\n",
       "\u001b[2;32m│   \u001b[0m\u001b[33mclient_mutation_id\u001b[0m=\u001b[3;35mNone\u001b[0m\n",
       "\u001b[1m)\u001b[0m\n"
      ]
     },
     "metadata": {},
     "output_type": "display_data"
    }
   ],
   "source": [
    "pprint(new_automation)"
   ]
  },
  {
   "cell_type": "markdown",
   "id": "2efadccd-4384-4758-96b9-e2739e71127b",
   "metadata": {},
   "source": [
    "To finally save the new automation, we'd run:\n",
    "\n",
    "> NOTE: note this may not work in all cases -- still WIP"
   ]
  },
  {
   "cell_type": "code",
   "execution_count": null,
   "id": "55c2fedf-d6b7-4e4e-b300-bb7cf3130657",
   "metadata": {},
   "outputs": [],
   "source": [
    "created_automation = automations.create(new_automation)"
   ]
  },
  {
   "cell_type": "code",
   "execution_count": 16,
   "id": "689292af-def8-412b-9175-98bf294bba13",
   "metadata": {},
   "outputs": [
    {
     "data": {
      "text/html": [
       "<pre style=\"white-space:pre;overflow-x:auto;line-height:normal;font-family:Menlo,'DejaVu Sans Mono',consolas,'Courier New',monospace\"><span style=\"color: #800080; text-decoration-color: #800080; font-weight: bold\">Automation</span><span style=\"font-weight: bold\">(</span>\n",
       "<span style=\"color: #7fbf7f; text-decoration-color: #7fbf7f\">│   </span><span style=\"color: #808000; text-decoration-color: #808000\">name</span>=<span style=\"color: #008000; text-decoration-color: #008000\">'Testing programmatic automations API'</span>,\n",
       "<span style=\"color: #7fbf7f; text-decoration-color: #7fbf7f\">│   </span><span style=\"color: #808000; text-decoration-color: #808000\">description</span>=<span style=\"color: #008000; text-decoration-color: #008000\">'who knows if this will work'</span>,\n",
       "<span style=\"color: #7fbf7f; text-decoration-color: #7fbf7f\">│   </span><span style=\"color: #808000; text-decoration-color: #808000\">scope</span>=<span style=\"color: #800080; text-decoration-color: #800080; font-weight: bold\">ArtifactCollectionScope</span><span style=\"font-weight: bold\">(</span><span style=\"color: #808000; text-decoration-color: #808000\">name</span>=<span style=\"color: #008000; text-decoration-color: #008000\">'best-data'</span><span style=\"font-weight: bold\">)</span>,\n",
       "<span style=\"color: #7fbf7f; text-decoration-color: #7fbf7f\">│   </span><span style=\"color: #808000; text-decoration-color: #808000\">event</span>=<span style=\"color: #800080; text-decoration-color: #800080; font-weight: bold\">Event</span><span style=\"font-weight: bold\">(</span><span style=\"color: #808000; text-decoration-color: #808000\">filter</span>=<span style=\"font-weight: bold\">{</span><span style=\"color: #008000; text-decoration-color: #008000\">'filter'</span>: <span style=\"color: #008000; text-decoration-color: #008000\">'{\"$or\":[{\"$and\":[]}]}'</span><span style=\"font-weight: bold\">})</span>,\n",
       "<span style=\"color: #7fbf7f; text-decoration-color: #7fbf7f\">│   </span><span style=\"color: #808000; text-decoration-color: #808000\">action</span>=<span style=\"color: #800080; text-decoration-color: #800080; font-weight: bold\">NotificationAction</span><span style=\"font-weight: bold\">(</span>\n",
       "<span style=\"color: #7fbf7f; text-decoration-color: #7fbf7f\">│   │   </span><span style=\"color: #808000; text-decoration-color: #808000\">integration</span>=<span style=\"color: #800080; text-decoration-color: #800080; font-weight: bold\">SlackIntegration</span><span style=\"font-weight: bold\">(</span><span style=\"color: #808000; text-decoration-color: #808000\">team_name</span>=<span style=\"color: #008000; text-decoration-color: #008000\">'Weights and Biases'</span>, <span style=\"color: #808000; text-decoration-color: #808000\">channel_name</span>=<span style=\"color: #008000; text-decoration-color: #008000\">'@tony.li'</span><span style=\"font-weight: bold\">)</span>,\n",
       "<span style=\"color: #7fbf7f; text-decoration-color: #7fbf7f\">│   │   </span><span style=\"color: #808000; text-decoration-color: #808000\">title</span>=<span style=\"color: #008000; text-decoration-color: #008000\">'Artifact linked!'</span>,\n",
       "<span style=\"color: #7fbf7f; text-decoration-color: #7fbf7f\">│   │   </span><span style=\"color: #808000; text-decoration-color: #808000\">message</span>=<span style=\"color: #008000; text-decoration-color: #008000\">'Programmatic API test successful!'</span>,\n",
       "<span style=\"color: #7fbf7f; text-decoration-color: #7fbf7f\">│   │   </span><span style=\"color: #808000; text-decoration-color: #808000\">severity</span>=<span style=\"color: #008000; text-decoration-color: #008000\">'INFO'</span>\n",
       "<span style=\"color: #7fbf7f; text-decoration-color: #7fbf7f\">│   </span><span style=\"font-weight: bold\">)</span>,\n",
       "<span style=\"color: #7fbf7f; text-decoration-color: #7fbf7f\">│   </span><span style=\"color: #808000; text-decoration-color: #808000\">enabled</span>=<span style=\"color: #00ff00; text-decoration-color: #00ff00; font-style: italic\">True</span>\n",
       "<span style=\"font-weight: bold\">)</span>\n",
       "</pre>\n"
      ],
      "text/plain": [
       "\u001b[1;35mAutomation\u001b[0m\u001b[1m(\u001b[0m\n",
       "\u001b[2;32m│   \u001b[0m\u001b[33mname\u001b[0m=\u001b[32m'Testing programmatic automations API'\u001b[0m,\n",
       "\u001b[2;32m│   \u001b[0m\u001b[33mdescription\u001b[0m=\u001b[32m'who knows if this will work'\u001b[0m,\n",
       "\u001b[2;32m│   \u001b[0m\u001b[33mscope\u001b[0m=\u001b[1;35mArtifactCollectionScope\u001b[0m\u001b[1m(\u001b[0m\u001b[33mname\u001b[0m=\u001b[32m'best-data'\u001b[0m\u001b[1m)\u001b[0m,\n",
       "\u001b[2;32m│   \u001b[0m\u001b[33mevent\u001b[0m=\u001b[1;35mEvent\u001b[0m\u001b[1m(\u001b[0m\u001b[33mfilter\u001b[0m=\u001b[1m{\u001b[0m\u001b[32m'filter'\u001b[0m: \u001b[32m'\u001b[0m\u001b[32m{\u001b[0m\u001b[32m\"$or\":\u001b[0m\u001b[32m[\u001b[0m\u001b[32m{\u001b[0m\u001b[32m\"$and\":\u001b[0m\u001b[32m[\u001b[0m\u001b[32m]\u001b[0m\u001b[32m}\u001b[0m\u001b[32m]\u001b[0m\u001b[32m}\u001b[0m\u001b[32m'\u001b[0m\u001b[1m}\u001b[0m\u001b[1m)\u001b[0m,\n",
       "\u001b[2;32m│   \u001b[0m\u001b[33maction\u001b[0m=\u001b[1;35mNotificationAction\u001b[0m\u001b[1m(\u001b[0m\n",
       "\u001b[2;32m│   │   \u001b[0m\u001b[33mintegration\u001b[0m=\u001b[1;35mSlackIntegration\u001b[0m\u001b[1m(\u001b[0m\u001b[33mteam_name\u001b[0m=\u001b[32m'Weights and Biases'\u001b[0m, \u001b[33mchannel_name\u001b[0m=\u001b[32m'@tony.li'\u001b[0m\u001b[1m)\u001b[0m,\n",
       "\u001b[2;32m│   │   \u001b[0m\u001b[33mtitle\u001b[0m=\u001b[32m'Artifact linked!'\u001b[0m,\n",
       "\u001b[2;32m│   │   \u001b[0m\u001b[33mmessage\u001b[0m=\u001b[32m'Programmatic API test successful!'\u001b[0m,\n",
       "\u001b[2;32m│   │   \u001b[0m\u001b[33mseverity\u001b[0m=\u001b[32m'INFO'\u001b[0m\n",
       "\u001b[2;32m│   \u001b[0m\u001b[1m)\u001b[0m,\n",
       "\u001b[2;32m│   \u001b[0m\u001b[33menabled\u001b[0m=\u001b[3;92mTrue\u001b[0m\n",
       "\u001b[1m)\u001b[0m\n"
      ]
     },
     "metadata": {},
     "output_type": "display_data"
    }
   ],
   "source": [
    "pprint(created_automation)"
   ]
  },
  {
   "cell_type": "markdown",
   "id": "49462a46-04b0-4433-b061-ae4db00820dd",
   "metadata": {},
   "source": [
    "## Delete the automation"
   ]
  },
  {
   "cell_type": "code",
   "execution_count": 18,
   "id": "299beccb-f2d7-42fa-9dea-0a984776c61f",
   "metadata": {},
   "outputs": [
    {
     "data": {
      "text/html": [
       "<pre style=\"white-space:pre;overflow-x:auto;line-height:normal;font-family:Menlo,'DejaVu Sans Mono',consolas,'Courier New',monospace\"><span style=\"color: #800080; text-decoration-color: #800080; font-weight: bold\">DeletedAutomation</span><span style=\"font-weight: bold\">(</span><span style=\"color: #808000; text-decoration-color: #808000\">success</span>=<span style=\"color: #00ff00; text-decoration-color: #00ff00; font-style: italic\">True</span>, <span style=\"color: #808000; text-decoration-color: #808000\">client_mutation_id</span>=<span style=\"color: #800080; text-decoration-color: #800080; font-style: italic\">None</span><span style=\"font-weight: bold\">)</span>\n",
       "</pre>\n"
      ],
      "text/plain": [
       "\u001b[1;35mDeletedAutomation\u001b[0m\u001b[1m(\u001b[0m\u001b[33msuccess\u001b[0m=\u001b[3;92mTrue\u001b[0m, \u001b[33mclient_mutation_id\u001b[0m=\u001b[3;35mNone\u001b[0m\u001b[1m)\u001b[0m\n"
      ]
     },
     "metadata": {},
     "output_type": "display_data"
    }
   ],
   "source": [
    "response = automations.delete(\n",
    "    created_automation\n",
    ")  # or automations.delete(created_automation.id)\n",
    "pprint(response)"
   ]
  }
 ],
 "metadata": {
  "kernelspec": {
   "display_name": "Python 3 (ipykernel)",
   "language": "python",
   "name": "python3"
  },
  "language_info": {
   "codemirror_mode": {
    "name": "ipython",
    "version": 3
   },
   "file_extension": ".py",
   "mimetype": "text/x-python",
   "name": "python",
   "nbconvert_exporter": "python",
   "pygments_lexer": "ipython3",
   "version": "3.11.9"
  }
 },
 "nbformat": 4,
 "nbformat_minor": 5
}
